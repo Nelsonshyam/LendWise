{
 "cells": [
  {
   "cell_type": "code",
   "execution_count": 1,
   "id": "ef5fae69",
   "metadata": {},
   "outputs": [
    {
     "name": "stdout",
     "output_type": "stream",
     "text": [
      "Dataset has been saved to 'loan_approval_dataset.csv'\n"
     ]
    }
   ],
   "source": [
    "import pandas as pd\n",
    "import numpy as np\n",
    "\n",
    "np.random.seed(12)\n",
    "\n",
    "n_samples = 14000\n",
    "\n",
    "loan_id = np.arange(1, n_samples + 1)\n",
    "no_of_dependents = np.random.randint(0, 6, size=n_samples)\n",
    "education = np.random.randint(0, 2, size=n_samples)\n",
    "self_employed = np.random.randint(0, 2, size=n_samples)\n",
    "age = np.random.randint(21, 81, size=n_samples)  # Age between 21 and 80\n",
    "\n",
    "income_annum = np.where(\n",
    "    self_employed == 1,\n",
    "    np.random.randint(200, 1500, size=n_samples) * 1000,  # Self-employed: 200k - 1.5M Rs annually\n",
    "    np.random.randint(300, 1500, size=n_samples) * 1000   # Salaried: 300k - 1.5M Rs annually\n",
    ")\n",
    "\n",
    "loan_amount = np.random.randint(50, 5000, size=n_samples) * 10\n",
    "loan_term = np.random.randint(5, 30, size=n_samples)\n",
    "cibil_score = np.random.randint(300, 900, size=n_samples)\n",
    "residential_assets_value = np.random.randint(0, 1000, size=n_samples) * 100\n",
    "commercial_assets_value = np.random.randint(0, 1000, size=n_samples) * 100\n",
    "luxury_assets_value = np.random.randint(10, 500, size=n_samples) * 100\n",
    "bank_asset_value = np.random.randint(100, 10000, size=n_samples) * 100\n",
    "\n",
    "total_assets = (\n",
    "    residential_assets_value + \n",
    "    commercial_assets_value + \n",
    "    luxury_assets_value + \n",
    "    bank_asset_value\n",
    ")\n",
    "\n",
    "max_loan_amount = np.where(\n",
    "    self_employed == 1,\n",
    "    1000000,  # Higher limit for self-employed\n",
    "    500000  # Lower limit for salaried\n",
    ")\n",
    "\n",
    "max_loan_term = np.where(\n",
    "    age <= 50,  # Younger applicants can have longer terms\n",
    "    30,\n",
    "    20  # Older applicants typically have shorter terms\n",
    ")\n",
    "\n",
    "min_debt_to_income_ratio = 0.3\n",
    "\n",
    "loan_status = np.where(\n",
    "    (age >= 21) & (age <= 70) &  # Age between 21 and 70\n",
    "    (cibil_score >= 500) &  # Minimum CIBIL score of 750\n",
    "    (income_annum >= 250000) &  # Minimum income for employed individuals\n",
    "    (loan_amount <= max_loan_amount) &  # Maximum loan amount based on employment status\n",
    "    (loan_term <= max_loan_term) &  # Maximum loan term based on age\n",
    "    ((loan_amount / income_annum) <= min_debt_to_income_ratio) &  # Debt-to-Income Ratio\n",
    "    (total_assets > 200000),  # Total assets above threshold\n",
    "    1, 0\n",
    ")\n",
    "\n",
    "data = pd.DataFrame({\n",
    "    'loan_id': loan_id,\n",
    "    'no_of_dependents': no_of_dependents,\n",
    "    'education': education,\n",
    "    'self_employed': self_employed,\n",
    "    'age': age,\n",
    "    'income_annum': income_annum,\n",
    "    'loan_amount': loan_amount,\n",
    "    'loan_term': loan_term,\n",
    "    'cibil_score': cibil_score,\n",
    "    'residential_assets_value': residential_assets_value,\n",
    "    'commercial_assets_value': commercial_assets_value,\n",
    "    'luxury_assets_value': luxury_assets_value,\n",
    "    'bank_asset_value': bank_asset_value,\n",
    "    'loan_status': loan_status\n",
    "})\n",
    "\n",
    "data.to_csv('loan_approval_dataset.csv', index=False)\n",
    "\n",
    "print(\"Dataset has been saved to 'loan_approval_dataset.csv'\")"
   ]
  },
  {
   "cell_type": "code",
   "execution_count": null,
   "id": "05573172",
   "metadata": {},
   "outputs": [],
   "source": []
  }
 ],
 "metadata": {
  "kernelspec": {
   "display_name": "Python 3 (ipykernel)",
   "language": "python",
   "name": "python3"
  },
  "language_info": {
   "codemirror_mode": {
    "name": "ipython",
    "version": 3
   },
   "file_extension": ".py",
   "mimetype": "text/x-python",
   "name": "python",
   "nbconvert_exporter": "python",
   "pygments_lexer": "ipython3",
   "version": "3.11.9"
  }
 },
 "nbformat": 4,
 "nbformat_minor": 5
}
